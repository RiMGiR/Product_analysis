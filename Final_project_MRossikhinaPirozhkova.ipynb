{
 "cells": [
  {
   "cell_type": "markdown",
   "id": "00381441-cc5a-4001-b159-9d0dbcdc4ebc",
   "metadata": {},
   "source": [
    "## PROJECT 2"
   ]
  },
  {
   "cell_type": "markdown",
   "id": "54cc598a-6d4d-49a9-a408-fa3c78b0a17d",
   "metadata": {},
   "source": [
    "- [Task 1](#task_1) </n>\n",
    "- [Task 2](#task_2) </n>\n",
    "- [Task 3](#task_3) </n>"
   ]
  },
  {
   "cell_type": "code",
   "execution_count": 1,
   "id": "0d9a35f4-4af9-4883-b718-963a7595c1ce",
   "metadata": {},
   "outputs": [
    {
     "name": "stderr",
     "output_type": "stream",
     "text": [
      "C:\\Users\\Mariia\\anaconda3\\lib\\site-packages\\outdated\\utils.py:14: OutdatedPackageWarning: The package pingouin is out of date. Your version is 0.5.2, the latest is 0.5.3.\n",
      "Set the environment variable OUTDATED_IGNORE=1 to disable these warnings.\n",
      "  return warn(\n"
     ]
    }
   ],
   "source": [
    "import pandas as pd\n",
    "import numpy as np\n",
    "from scipy import stats\n",
    "import matplotlib.pyplot as plt\n",
    "from tqdm.auto import tqdm\n",
    "import seaborn as sns\n",
    "import pingouin as pg\n",
    "\n",
    "import requests\n",
    "from urllib.parse import urlencode\n",
    "\n",
    "%matplotlib inline"
   ]
  },
  {
   "cell_type": "markdown",
   "id": "c8b9b540-e72b-4cc6-bd54-f4951ca810fa",
   "metadata": {
    "tags": []
   },
   "source": [
    "### TASK 1<a name = task_1></a>"
   ]
  },
  {
   "cell_type": "code",
   "execution_count": 2,
   "id": "fba135c2-4578-403f-9801-421292211e8e",
   "metadata": {
    "tags": []
   },
   "outputs": [],
   "source": [
    "# downloading files from Yandex disc : ['groups',  'groups_add', 'active_studs','checks']\n",
    "\n",
    "public_key = ['https://disk.yandex.ru/d/UhyYx41rTt3clQ',\n",
    "              'https://disk.yandex.ru/d/5Kxrz02m3IBUwQ',\n",
    "              'https://disk.yandex.ru/d/Tbs44Bm6H_FwFQ',\n",
    "              'https://disk.yandex.ru/d/pH1q-VqcxXjsVA']  # links to the files\n",
    "\n",
    "# Making links to download\n",
    "final_link = []\n",
    "for i in public_key:\n",
    "    base_url = 'https://cloud-api.yandex.net/v1/disk/public/resources/download?'\n",
    "# getting downloading links\n",
    "    final_url = base_url + urlencode(dict(public_key=i))\n",
    "    response = requests.get(final_url)\n",
    "    df = response.json()['href']\n",
    "# making links list\n",
    "    download_response = requests.get(final_url)\n",
    "    final_link.append(df)"
   ]
  },
  {
   "cell_type": "code",
   "execution_count": 3,
   "id": "25fbe28b-af37-4945-816f-baf15c2eaf8c",
   "metadata": {},
   "outputs": [],
   "source": [
    "# download files\n",
    "\n",
    "groups = pd.read_csv(final_link[0], sep=';')\n",
    "groups_add = pd.read_csv(final_link[1])\n",
    "active_studs = pd.read_csv(final_link[2])\n",
    "checks = pd.read_csv(final_link[3], sep=';')"
   ]
  },
  {
   "cell_type": "code",
   "execution_count": 35,
   "id": "e8b128ad-49c1-49d1-bf20-83a048e6da81",
   "metadata": {
    "tags": []
   },
   "outputs": [
    {
     "data": {
      "text/html": [
       "<div>\n",
       "<style scoped>\n",
       "    .dataframe tbody tr th:only-of-type {\n",
       "        vertical-align: middle;\n",
       "    }\n",
       "\n",
       "    .dataframe tbody tr th {\n",
       "        vertical-align: top;\n",
       "    }\n",
       "\n",
       "    .dataframe thead th {\n",
       "        text-align: right;\n",
       "    }\n",
       "</style>\n",
       "<table border=\"1\" class=\"dataframe\">\n",
       "  <thead>\n",
       "    <tr style=\"text-align: right;\">\n",
       "      <th></th>\n",
       "      <th>id</th>\n",
       "      <th>grp</th>\n",
       "    </tr>\n",
       "  </thead>\n",
       "  <tbody>\n",
       "    <tr>\n",
       "      <th>0</th>\n",
       "      <td>1489</td>\n",
       "      <td>B</td>\n",
       "    </tr>\n",
       "    <tr>\n",
       "      <th>1</th>\n",
       "      <td>1627</td>\n",
       "      <td>A</td>\n",
       "    </tr>\n",
       "    <tr>\n",
       "      <th>2</th>\n",
       "      <td>1768</td>\n",
       "      <td>B</td>\n",
       "    </tr>\n",
       "    <tr>\n",
       "      <th>3</th>\n",
       "      <td>1783</td>\n",
       "      <td>B</td>\n",
       "    </tr>\n",
       "    <tr>\n",
       "      <th>4</th>\n",
       "      <td>1794</td>\n",
       "      <td>A</td>\n",
       "    </tr>\n",
       "  </tbody>\n",
       "</table>\n",
       "</div>"
      ],
      "text/plain": [
       "     id grp\n",
       "0  1489   B\n",
       "1  1627   A\n",
       "2  1768   B\n",
       "3  1783   B\n",
       "4  1794   A"
      ]
     },
     "execution_count": 35,
     "metadata": {},
     "output_type": "execute_result"
    }
   ],
   "source": [
    "groups.head()"
   ]
  },
  {
   "cell_type": "code",
   "execution_count": 36,
   "id": "8753e09b-d6c1-4b26-9454-a6cd484dd831",
   "metadata": {},
   "outputs": [
    {
     "data": {
      "text/plain": [
       "True"
      ]
     },
     "execution_count": 36,
     "metadata": {},
     "output_type": "execute_result"
    }
   ],
   "source": [
    "# check unique and rows\n",
    "\n",
    "groups.shape[0] == groups.id.nunique()"
   ]
  },
  {
   "cell_type": "code",
   "execution_count": 37,
   "id": "f548fff6-4051-4518-923f-10e41577110b",
   "metadata": {},
   "outputs": [
    {
     "name": "stdout",
     "output_type": "stream",
     "text": [
      "<class 'pandas.core.frame.DataFrame'>\n",
      "RangeIndex: 74484 entries, 0 to 74483\n",
      "Data columns (total 2 columns):\n",
      " #   Column  Non-Null Count  Dtype \n",
      "---  ------  --------------  ----- \n",
      " 0   id      74484 non-null  int64 \n",
      " 1   grp     74484 non-null  object\n",
      "dtypes: int64(1), object(1)\n",
      "memory usage: 1.1+ MB\n"
     ]
    }
   ],
   "source": [
    "groups.info()"
   ]
  },
  {
   "cell_type": "code",
   "execution_count": 38,
   "id": "58398be0-137e-4e23-8252-56236677c27d",
   "metadata": {},
   "outputs": [
    {
     "data": {
      "text/html": [
       "<div>\n",
       "<style scoped>\n",
       "    .dataframe tbody tr th:only-of-type {\n",
       "        vertical-align: middle;\n",
       "    }\n",
       "\n",
       "    .dataframe tbody tr th {\n",
       "        vertical-align: top;\n",
       "    }\n",
       "\n",
       "    .dataframe thead th {\n",
       "        text-align: right;\n",
       "    }\n",
       "</style>\n",
       "<table border=\"1\" class=\"dataframe\">\n",
       "  <thead>\n",
       "    <tr style=\"text-align: right;\">\n",
       "      <th></th>\n",
       "      <th>id</th>\n",
       "      <th>grp</th>\n",
       "    </tr>\n",
       "  </thead>\n",
       "  <tbody>\n",
       "    <tr>\n",
       "      <th>0</th>\n",
       "      <td>5694584</td>\n",
       "      <td>B</td>\n",
       "    </tr>\n",
       "    <tr>\n",
       "      <th>1</th>\n",
       "      <td>5694830</td>\n",
       "      <td>B</td>\n",
       "    </tr>\n",
       "    <tr>\n",
       "      <th>2</th>\n",
       "      <td>5695057</td>\n",
       "      <td>B</td>\n",
       "    </tr>\n",
       "    <tr>\n",
       "      <th>3</th>\n",
       "      <td>5698872</td>\n",
       "      <td>B</td>\n",
       "    </tr>\n",
       "    <tr>\n",
       "      <th>4</th>\n",
       "      <td>5699067</td>\n",
       "      <td>B</td>\n",
       "    </tr>\n",
       "  </tbody>\n",
       "</table>\n",
       "</div>"
      ],
      "text/plain": [
       "        id grp\n",
       "0  5694584   B\n",
       "1  5694830   B\n",
       "2  5695057   B\n",
       "3  5698872   B\n",
       "4  5699067   B"
      ]
     },
     "execution_count": 38,
     "metadata": {},
     "output_type": "execute_result"
    }
   ],
   "source": [
    "groups_add.head()"
   ]
  },
  {
   "cell_type": "code",
   "execution_count": 39,
   "id": "5555de39-60e6-4d27-a59c-4c6dc0cced6b",
   "metadata": {},
   "outputs": [
    {
     "data": {
      "text/plain": [
       "True"
      ]
     },
     "execution_count": 39,
     "metadata": {},
     "output_type": "execute_result"
    }
   ],
   "source": [
    "# check unique and rows in groups_add set\n",
    "\n",
    "groups_add.shape[0] == groups_add.id.nunique()"
   ]
  },
  {
   "cell_type": "code",
   "execution_count": 40,
   "id": "2571279e-9137-4f75-ada4-8b869738b1de",
   "metadata": {},
   "outputs": [
    {
     "name": "stdout",
     "output_type": "stream",
     "text": [
      "<class 'pandas.core.frame.DataFrame'>\n",
      "RangeIndex: 92 entries, 0 to 91\n",
      "Data columns (total 2 columns):\n",
      " #   Column  Non-Null Count  Dtype \n",
      "---  ------  --------------  ----- \n",
      " 0   id      92 non-null     int64 \n",
      " 1   grp     92 non-null     object\n",
      "dtypes: int64(1), object(1)\n",
      "memory usage: 1.6+ KB\n"
     ]
    }
   ],
   "source": [
    "groups_add.info()"
   ]
  },
  {
   "cell_type": "code",
   "execution_count": 41,
   "id": "2d3e1da4-bc85-4605-a840-bd0b08ea8280",
   "metadata": {},
   "outputs": [
    {
     "data": {
      "text/plain": [
       "0"
      ]
     },
     "execution_count": 41,
     "metadata": {},
     "output_type": "execute_result"
    }
   ],
   "source": [
    "# check duplicates in additional sets\n",
    "\n",
    "groups_add['id'].isin(groups['id']).sum()"
   ]
  },
  {
   "cell_type": "code",
   "execution_count": 42,
   "id": "97120ade-4424-4f75-910a-7cad92968230",
   "metadata": {},
   "outputs": [
    {
     "data": {
      "text/html": [
       "<div>\n",
       "<style scoped>\n",
       "    .dataframe tbody tr th:only-of-type {\n",
       "        vertical-align: middle;\n",
       "    }\n",
       "\n",
       "    .dataframe tbody tr th {\n",
       "        vertical-align: top;\n",
       "    }\n",
       "\n",
       "    .dataframe thead th {\n",
       "        text-align: right;\n",
       "    }\n",
       "</style>\n",
       "<table border=\"1\" class=\"dataframe\">\n",
       "  <thead>\n",
       "    <tr style=\"text-align: right;\">\n",
       "      <th></th>\n",
       "      <th>student_id</th>\n",
       "    </tr>\n",
       "  </thead>\n",
       "  <tbody>\n",
       "    <tr>\n",
       "      <th>0</th>\n",
       "      <td>581585</td>\n",
       "    </tr>\n",
       "    <tr>\n",
       "      <th>1</th>\n",
       "      <td>5723133</td>\n",
       "    </tr>\n",
       "    <tr>\n",
       "      <th>2</th>\n",
       "      <td>3276743</td>\n",
       "    </tr>\n",
       "    <tr>\n",
       "      <th>3</th>\n",
       "      <td>4238589</td>\n",
       "    </tr>\n",
       "    <tr>\n",
       "      <th>4</th>\n",
       "      <td>4475369</td>\n",
       "    </tr>\n",
       "  </tbody>\n",
       "</table>\n",
       "</div>"
      ],
      "text/plain": [
       "   student_id\n",
       "0      581585\n",
       "1     5723133\n",
       "2     3276743\n",
       "3     4238589\n",
       "4     4475369"
      ]
     },
     "execution_count": 42,
     "metadata": {},
     "output_type": "execute_result"
    }
   ],
   "source": [
    "active_studs.head()"
   ]
  },
  {
   "cell_type": "code",
   "execution_count": 43,
   "id": "aacee3b3-6212-40d9-af8e-8b98815d46af",
   "metadata": {},
   "outputs": [
    {
     "data": {
      "text/plain": [
       "True"
      ]
     },
     "execution_count": 43,
     "metadata": {},
     "output_type": "execute_result"
    }
   ],
   "source": [
    "# check unique and rows in active_studs set\n",
    "\n",
    "active_studs.shape[0] == active_studs.student_id.nunique()"
   ]
  },
  {
   "cell_type": "code",
   "execution_count": 44,
   "id": "a9f68934-3285-4359-9eab-b30cd8cedb2d",
   "metadata": {},
   "outputs": [
    {
     "name": "stdout",
     "output_type": "stream",
     "text": [
      "<class 'pandas.core.frame.DataFrame'>\n",
      "RangeIndex: 8341 entries, 0 to 8340\n",
      "Data columns (total 1 columns):\n",
      " #   Column      Non-Null Count  Dtype\n",
      "---  ------      --------------  -----\n",
      " 0   student_id  8341 non-null   int64\n",
      "dtypes: int64(1)\n",
      "memory usage: 65.3 KB\n"
     ]
    }
   ],
   "source": [
    "active_studs.info()"
   ]
  },
  {
   "cell_type": "code",
   "execution_count": 45,
   "id": "f4c76517-05d4-4826-926c-93c2882857df",
   "metadata": {},
   "outputs": [
    {
     "data": {
      "text/html": [
       "<div>\n",
       "<style scoped>\n",
       "    .dataframe tbody tr th:only-of-type {\n",
       "        vertical-align: middle;\n",
       "    }\n",
       "\n",
       "    .dataframe tbody tr th {\n",
       "        vertical-align: top;\n",
       "    }\n",
       "\n",
       "    .dataframe thead th {\n",
       "        text-align: right;\n",
       "    }\n",
       "</style>\n",
       "<table border=\"1\" class=\"dataframe\">\n",
       "  <thead>\n",
       "    <tr style=\"text-align: right;\">\n",
       "      <th></th>\n",
       "      <th>student_id</th>\n",
       "      <th>rev</th>\n",
       "    </tr>\n",
       "  </thead>\n",
       "  <tbody>\n",
       "    <tr>\n",
       "      <th>0</th>\n",
       "      <td>1627</td>\n",
       "      <td>990.0</td>\n",
       "    </tr>\n",
       "    <tr>\n",
       "      <th>1</th>\n",
       "      <td>3185</td>\n",
       "      <td>690.0</td>\n",
       "    </tr>\n",
       "    <tr>\n",
       "      <th>2</th>\n",
       "      <td>25973</td>\n",
       "      <td>690.0</td>\n",
       "    </tr>\n",
       "    <tr>\n",
       "      <th>3</th>\n",
       "      <td>26280</td>\n",
       "      <td>690.0</td>\n",
       "    </tr>\n",
       "    <tr>\n",
       "      <th>4</th>\n",
       "      <td>100300</td>\n",
       "      <td>990.0</td>\n",
       "    </tr>\n",
       "  </tbody>\n",
       "</table>\n",
       "</div>"
      ],
      "text/plain": [
       "   student_id    rev\n",
       "0        1627  990.0\n",
       "1        3185  690.0\n",
       "2       25973  690.0\n",
       "3       26280  690.0\n",
       "4      100300  990.0"
      ]
     },
     "execution_count": 45,
     "metadata": {},
     "output_type": "execute_result"
    }
   ],
   "source": [
    "checks.head()"
   ]
  },
  {
   "cell_type": "code",
   "execution_count": 46,
   "id": "e7d4eca5-e005-4c93-8e57-88aa119091af",
   "metadata": {},
   "outputs": [
    {
     "data": {
      "text/plain": [
       "True"
      ]
     },
     "execution_count": 46,
     "metadata": {},
     "output_type": "execute_result"
    }
   ],
   "source": [
    "# check unique and rows in active_studs set\n",
    "\n",
    "checks.shape[0] == checks.student_id.nunique()"
   ]
  },
  {
   "cell_type": "code",
   "execution_count": 47,
   "id": "6a5a68df-c6e8-4aa6-ad2c-139f682f4392",
   "metadata": {},
   "outputs": [
    {
     "name": "stdout",
     "output_type": "stream",
     "text": [
      "<class 'pandas.core.frame.DataFrame'>\n",
      "RangeIndex: 541 entries, 0 to 540\n",
      "Data columns (total 2 columns):\n",
      " #   Column      Non-Null Count  Dtype  \n",
      "---  ------      --------------  -----  \n",
      " 0   student_id  541 non-null    int64  \n",
      " 1   rev         541 non-null    float64\n",
      "dtypes: float64(1), int64(1)\n",
      "memory usage: 8.6 KB\n"
     ]
    }
   ],
   "source": [
    "checks.info()"
   ]
  },
  {
   "cell_type": "markdown",
   "id": "1e8f64a5-208e-4ed1-b7f7-94a760988583",
   "metadata": {},
   "source": [
    "___\n",
    "\n",
    "We've experimented with the payment system.<br>\n",
    "Two-sample hypothesis testing is a method in determining whether the differences between the two samples are statistically significant or not.<br>\n",
    "- A - control\n",
    "- B - treatment or test\n",
    "\n",
    "I have four datasets:\n",
    "\n",
    "- groups     - contains: id and A/B samples info<br>\n",
    "\n",
    "- groups_add - contains: additional id after two days from experemnt<br>\n",
    "- active_studs- contains: ids of users on the experiment day<br>\n",
    "- checks      - contains: ids and receipts on the experiment day<br>\n",
    "\n",
    "\n",
    "I want to check three metrics:\n",
    " - first is **CR**    - conversion rate - because we change the mechanic of the payment system, it impacts the number of new purchases from new payment users. check by **chi-squere test**<br>\n",
    " \n",
    "The next two metrics show the incomes, but our feature doesn't directly impact them.<br>\n",
    " - second is **Average revenue per user** - just to be sure our changes increase the number of expensive purchases or not\n",
    " - third is **Average revenue per pay user** - just to be sure our changes increase the number of expensive purchases or not\n",
    " \n",
    "Hypothesis:\n",
    "\n",
    "- ***CR H0*** - The CR in A and B groups is the same or the payment changes don't impact to CR<br>\n",
    "- ***ARPU H0***  - The ARPU in A and B groups is the same or the payment changes don't impact to ARPU<br>\n",
    "- ***ARPPU H0*** - The ARPPU in A and B groups is the same or the payment changes don't impact to ARPPU<br>"
   ]
  },
  {
   "cell_type": "markdown",
   "id": "ff6b90cd-c922-4b88-a985-e0c80ac159a7",
   "metadata": {},
   "source": [
    "#### Checking the number of users in control and test groups"
   ]
  },
  {
   "cell_type": "code",
   "execution_count": 48,
   "id": "e73dfe79-2b80-41e6-bf08-0ca673040cfa",
   "metadata": {},
   "outputs": [
    {
     "data": {
      "text/html": [
       "<div>\n",
       "<style scoped>\n",
       "    .dataframe tbody tr th:only-of-type {\n",
       "        vertical-align: middle;\n",
       "    }\n",
       "\n",
       "    .dataframe tbody tr th {\n",
       "        vertical-align: top;\n",
       "    }\n",
       "\n",
       "    .dataframe thead th {\n",
       "        text-align: right;\n",
       "    }\n",
       "</style>\n",
       "<table border=\"1\" class=\"dataframe\">\n",
       "  <thead>\n",
       "    <tr style=\"text-align: right;\">\n",
       "      <th></th>\n",
       "      <th>grp</th>\n",
       "      <th>size</th>\n",
       "    </tr>\n",
       "  </thead>\n",
       "  <tbody>\n",
       "    <tr>\n",
       "      <th>0</th>\n",
       "      <td>A</td>\n",
       "      <td>14671</td>\n",
       "    </tr>\n",
       "    <tr>\n",
       "      <th>1</th>\n",
       "      <td>B</td>\n",
       "      <td>59813</td>\n",
       "    </tr>\n",
       "  </tbody>\n",
       "</table>\n",
       "</div>"
      ],
      "text/plain": [
       "  grp   size\n",
       "0   A  14671\n",
       "1   B  59813"
      ]
     },
     "metadata": {},
     "output_type": "display_data"
    },
    {
     "name": "stdout",
     "output_type": "stream",
     "text": [
      "Diff between B and A groups: 4.0769545361597705\n"
     ]
    }
   ],
   "source": [
    "# large disbalance between groups\n",
    "\n",
    "display(\n",
    "    groups.\n",
    "    groupby('grp', as_index=False).\n",
    "    size()\n",
    ")\n",
    "\n",
    "print(f'Diff between B and A groups: {59813/14671}')"
   ]
  },
  {
   "cell_type": "code",
   "execution_count": 49,
   "id": "ff829b52-96c5-4644-999a-1325bda398f5",
   "metadata": {},
   "outputs": [
    {
     "data": {
      "text/html": [
       "<div>\n",
       "<style scoped>\n",
       "    .dataframe tbody tr th:only-of-type {\n",
       "        vertical-align: middle;\n",
       "    }\n",
       "\n",
       "    .dataframe tbody tr th {\n",
       "        vertical-align: top;\n",
       "    }\n",
       "\n",
       "    .dataframe thead th {\n",
       "        text-align: right;\n",
       "    }\n",
       "</style>\n",
       "<table border=\"1\" class=\"dataframe\">\n",
       "  <thead>\n",
       "    <tr style=\"text-align: right;\">\n",
       "      <th></th>\n",
       "      <th>grp</th>\n",
       "      <th>size</th>\n",
       "    </tr>\n",
       "  </thead>\n",
       "  <tbody>\n",
       "    <tr>\n",
       "      <th>0</th>\n",
       "      <td>A</td>\n",
       "      <td>22</td>\n",
       "    </tr>\n",
       "    <tr>\n",
       "      <th>1</th>\n",
       "      <td>B</td>\n",
       "      <td>70</td>\n",
       "    </tr>\n",
       "  </tbody>\n",
       "</table>\n",
       "</div>"
      ],
      "text/plain": [
       "  grp  size\n",
       "0   A    22\n",
       "1   B    70"
      ]
     },
     "metadata": {},
     "output_type": "display_data"
    },
    {
     "name": "stdout",
     "output_type": "stream",
     "text": [
      "Diff between B and A groups: 3.1818181818181817\n"
     ]
    }
   ],
   "source": [
    "# large disbalance between groups\n",
    "\n",
    "display(\n",
    "    groups_add.\n",
    "    groupby('grp', as_index=False).\n",
    "    size()\n",
    ")\n",
    "\n",
    "print(f'Diff between B and A groups: {70/22}')"
   ]
  },
  {
   "cell_type": "markdown",
   "id": "ea97e592-8276-4b26-a711-d61c4851c7bf",
   "metadata": {},
   "source": [
    "#### Checking the number of users, visits and buying"
   ]
  },
  {
   "cell_type": "code",
   "execution_count": 50,
   "id": "282e64f0-2dac-480d-b376-1d3e1f424534",
   "metadata": {},
   "outputs": [],
   "source": [
    "# join both group's sets\n",
    "\n",
    "groups_full = pd.concat([groups, groups_add])"
   ]
  },
  {
   "cell_type": "code",
   "execution_count": 51,
   "id": "1b94908e-e96f-4678-a7ed-d6b20e767a28",
   "metadata": {},
   "outputs": [],
   "source": [
    "# count all values in two sets\n",
    "\n",
    "groups_values = groups.shape[0] + groups_add.id.nunique()"
   ]
  },
  {
   "cell_type": "code",
   "execution_count": 52,
   "id": "dd407a0b-f276-46fe-91dc-e590ebe1cb45",
   "metadata": {},
   "outputs": [
    {
     "data": {
      "text/plain": [
       "True"
      ]
     },
     "execution_count": 52,
     "metadata": {},
     "output_type": "execute_result"
    }
   ],
   "source": [
    "# checks number of values in new sets\n",
    "\n",
    "groups_full.shape[0] == groups_full.id.nunique() == groups_values"
   ]
  },
  {
   "cell_type": "code",
   "execution_count": 53,
   "id": "be83075d-5e10-4c08-a2f5-d951a19fa7ae",
   "metadata": {
    "tags": []
   },
   "outputs": [
    {
     "data": {
      "text/html": [
       "<div>\n",
       "<style scoped>\n",
       "    .dataframe tbody tr th:only-of-type {\n",
       "        vertical-align: middle;\n",
       "    }\n",
       "\n",
       "    .dataframe tbody tr th {\n",
       "        vertical-align: top;\n",
       "    }\n",
       "\n",
       "    .dataframe thead th {\n",
       "        text-align: right;\n",
       "    }\n",
       "</style>\n",
       "<table border=\"1\" class=\"dataframe\">\n",
       "  <thead>\n",
       "    <tr style=\"text-align: right;\">\n",
       "      <th></th>\n",
       "      <th>id</th>\n",
       "      <th>grp</th>\n",
       "    </tr>\n",
       "  </thead>\n",
       "  <tbody>\n",
       "    <tr>\n",
       "      <th>0</th>\n",
       "      <td>1489</td>\n",
       "      <td>B</td>\n",
       "    </tr>\n",
       "    <tr>\n",
       "      <th>1</th>\n",
       "      <td>1627</td>\n",
       "      <td>A</td>\n",
       "    </tr>\n",
       "    <tr>\n",
       "      <th>2</th>\n",
       "      <td>1768</td>\n",
       "      <td>B</td>\n",
       "    </tr>\n",
       "    <tr>\n",
       "      <th>3</th>\n",
       "      <td>1783</td>\n",
       "      <td>B</td>\n",
       "    </tr>\n",
       "    <tr>\n",
       "      <th>4</th>\n",
       "      <td>1794</td>\n",
       "      <td>A</td>\n",
       "    </tr>\n",
       "  </tbody>\n",
       "</table>\n",
       "</div>"
      ],
      "text/plain": [
       "     id grp\n",
       "0  1489   B\n",
       "1  1627   A\n",
       "2  1768   B\n",
       "3  1783   B\n",
       "4  1794   A"
      ]
     },
     "execution_count": 53,
     "metadata": {},
     "output_type": "execute_result"
    }
   ],
   "source": [
    "groups_full.head()"
   ]
  },
  {
   "cell_type": "code",
   "execution_count": 54,
   "id": "fb318712-b8e8-40a6-af73-6c96dd0d9cb1",
   "metadata": {
    "tags": []
   },
   "outputs": [
    {
     "data": {
      "text/html": [
       "<div>\n",
       "<style scoped>\n",
       "    .dataframe tbody tr th:only-of-type {\n",
       "        vertical-align: middle;\n",
       "    }\n",
       "\n",
       "    .dataframe tbody tr th {\n",
       "        vertical-align: top;\n",
       "    }\n",
       "\n",
       "    .dataframe thead th {\n",
       "        text-align: right;\n",
       "    }\n",
       "</style>\n",
       "<table border=\"1\" class=\"dataframe\">\n",
       "  <thead>\n",
       "    <tr style=\"text-align: right;\">\n",
       "      <th></th>\n",
       "      <th>grp</th>\n",
       "      <th>size</th>\n",
       "    </tr>\n",
       "  </thead>\n",
       "  <tbody>\n",
       "    <tr>\n",
       "      <th>0</th>\n",
       "      <td>A</td>\n",
       "      <td>14693</td>\n",
       "    </tr>\n",
       "    <tr>\n",
       "      <th>1</th>\n",
       "      <td>B</td>\n",
       "      <td>59883</td>\n",
       "    </tr>\n",
       "  </tbody>\n",
       "</table>\n",
       "</div>"
      ],
      "text/plain": [
       "  grp   size\n",
       "0   A  14693\n",
       "1   B  59883"
      ]
     },
     "execution_count": 54,
     "metadata": {},
     "output_type": "execute_result"
    }
   ],
   "source": [
    "groups_full.groupby('grp', as_index=False).size()"
   ]
  },
  {
   "cell_type": "code",
   "execution_count": 55,
   "id": "83ca8648-ed1e-430f-8776-b392eb1bd376",
   "metadata": {},
   "outputs": [
    {
     "data": {
      "text/plain": [
       "8341"
      ]
     },
     "execution_count": 55,
     "metadata": {},
     "output_type": "execute_result"
    }
   ],
   "source": [
    "# check the id in A/B groups is according to visits 'active_studs'\n",
    "\n",
    "groups_full['id'].isin(active_studs['student_id']).sum()"
   ]
  },
  {
   "cell_type": "code",
   "execution_count": 56,
   "id": "30dc3ab8-de68-4c88-af4c-4cc23a3ed9ab",
   "metadata": {},
   "outputs": [
    {
     "data": {
      "text/plain": [
       "541"
      ]
     },
     "execution_count": 56,
     "metadata": {},
     "output_type": "execute_result"
    }
   ],
   "source": [
    "# check the id in A/B groups is according to visits 'checks'\n",
    "\n",
    "groups_full['id'].isin(checks['student_id']).sum()"
   ]
  },
  {
   "cell_type": "markdown",
   "id": "4b78486c-b953-4ee2-b093-64fa8a68ad8a",
   "metadata": {},
   "source": [
    "___\n",
    "\n",
    "As we see we have a big disbalance between the test and control groups. <br>\n",
    "And one more point the test B group is bigger than the control A group. It looks not realistic.<br>\n",
    "\n",
    "So the first point in checking the hypothesis is: to use a test without requiring a strong balance between groups.<br>\n",
    "\n",
    "- CR is chi-square<br>\n",
    "- ARPU and ARPPU are bootstrap and u-test"
   ]
  },
  {
   "cell_type": "code",
   "execution_count": 57,
   "id": "698dbd51-50bb-4d1a-91c8-6a6e64f00669",
   "metadata": {},
   "outputs": [],
   "source": [
    "# create df groups_full + checks\n",
    "# use left join active_studs to expel mistakes with the users who didn't be active on the test days\n",
    "\n",
    "purchase = active_studs.merge(\n",
    "    groups_full, how='left', left_on='student_id', right_on='id')\n",
    "\n",
    "\n",
    "# add the checks info to purchase df\n",
    "# use left join because we need to save info about users who didn't get a purchase on test days but did active\n",
    "\n",
    "purchase = purchase.merge(checks, how='left', on='student_id')"
   ]
  },
  {
   "cell_type": "code",
   "execution_count": 58,
   "id": "9a212d79-4f95-4b77-af31-75c7be3949c8",
   "metadata": {},
   "outputs": [],
   "source": [
    "# create the column with acting info buying or not_buying\n",
    "\n",
    "purchase['CR'] = purchase['rev'].fillna('not_convert')\n",
    "purchase.loc[purchase['rev'] > 0, 'CR'] = 'convert'"
   ]
  },
  {
   "cell_type": "code",
   "execution_count": 59,
   "id": "d6e1a315-fba8-4090-8a7d-71b3ae839374",
   "metadata": {},
   "outputs": [],
   "source": [
    "# fill Nan to 0 on 'rev' column\n",
    "\n",
    "purchase['rev'] = purchase['rev'].fillna(0)"
   ]
  },
  {
   "cell_type": "code",
   "execution_count": 60,
   "id": "437762cb-b906-49b4-99f9-3513a20f8797",
   "metadata": {},
   "outputs": [
    {
     "data": {
      "text/html": [
       "<div>\n",
       "<style scoped>\n",
       "    .dataframe tbody tr th:only-of-type {\n",
       "        vertical-align: middle;\n",
       "    }\n",
       "\n",
       "    .dataframe tbody tr th {\n",
       "        vertical-align: top;\n",
       "    }\n",
       "\n",
       "    .dataframe thead th {\n",
       "        text-align: right;\n",
       "    }\n",
       "</style>\n",
       "<table border=\"1\" class=\"dataframe\">\n",
       "  <thead>\n",
       "    <tr style=\"text-align: right;\">\n",
       "      <th></th>\n",
       "      <th>student_id</th>\n",
       "      <th>id</th>\n",
       "      <th>grp</th>\n",
       "      <th>rev</th>\n",
       "      <th>CR</th>\n",
       "    </tr>\n",
       "  </thead>\n",
       "  <tbody>\n",
       "    <tr>\n",
       "      <th>0</th>\n",
       "      <td>581585</td>\n",
       "      <td>581585</td>\n",
       "      <td>A</td>\n",
       "      <td>0.0</td>\n",
       "      <td>not_convert</td>\n",
       "    </tr>\n",
       "    <tr>\n",
       "      <th>1</th>\n",
       "      <td>5723133</td>\n",
       "      <td>5723133</td>\n",
       "      <td>A</td>\n",
       "      <td>0.0</td>\n",
       "      <td>not_convert</td>\n",
       "    </tr>\n",
       "    <tr>\n",
       "      <th>2</th>\n",
       "      <td>3276743</td>\n",
       "      <td>3276743</td>\n",
       "      <td>B</td>\n",
       "      <td>0.0</td>\n",
       "      <td>not_convert</td>\n",
       "    </tr>\n",
       "    <tr>\n",
       "      <th>3</th>\n",
       "      <td>4238589</td>\n",
       "      <td>4238589</td>\n",
       "      <td>A</td>\n",
       "      <td>0.0</td>\n",
       "      <td>not_convert</td>\n",
       "    </tr>\n",
       "    <tr>\n",
       "      <th>4</th>\n",
       "      <td>4475369</td>\n",
       "      <td>4475369</td>\n",
       "      <td>B</td>\n",
       "      <td>0.0</td>\n",
       "      <td>not_convert</td>\n",
       "    </tr>\n",
       "  </tbody>\n",
       "</table>\n",
       "</div>"
      ],
      "text/plain": [
       "   student_id       id grp  rev           CR\n",
       "0      581585   581585   A  0.0  not_convert\n",
       "1     5723133  5723133   A  0.0  not_convert\n",
       "2     3276743  3276743   B  0.0  not_convert\n",
       "3     4238589  4238589   A  0.0  not_convert\n",
       "4     4475369  4475369   B  0.0  not_convert"
      ]
     },
     "execution_count": 60,
     "metadata": {},
     "output_type": "execute_result"
    }
   ],
   "source": [
    "purchase.head()"
   ]
  },
  {
   "cell_type": "code",
   "execution_count": 61,
   "id": "394fa798-b0c1-460a-879f-23ae4633da92",
   "metadata": {},
   "outputs": [],
   "source": [
    "# create contingency table to chi2 test\n",
    "\n",
    "purches_fin = pd.crosstab(index=purchase['grp'],\n",
    "                          columns=purchase['CR'],\n",
    "                          values=purchase['CR'],\n",
    "                          aggfunc='count')"
   ]
  },
  {
   "cell_type": "code",
   "execution_count": 62,
   "id": "2966517a-9e67-4798-a506-51e4b7c5a553",
   "metadata": {},
   "outputs": [
    {
     "data": {
      "text/html": [
       "<div>\n",
       "<style scoped>\n",
       "    .dataframe tbody tr th:only-of-type {\n",
       "        vertical-align: middle;\n",
       "    }\n",
       "\n",
       "    .dataframe tbody tr th {\n",
       "        vertical-align: top;\n",
       "    }\n",
       "\n",
       "    .dataframe thead th {\n",
       "        text-align: right;\n",
       "    }\n",
       "</style>\n",
       "<table border=\"1\" class=\"dataframe\">\n",
       "  <thead>\n",
       "    <tr style=\"text-align: right;\">\n",
       "      <th>CR</th>\n",
       "      <th>convert</th>\n",
       "      <th>not_convert</th>\n",
       "    </tr>\n",
       "    <tr>\n",
       "      <th>grp</th>\n",
       "      <th></th>\n",
       "      <th></th>\n",
       "    </tr>\n",
       "  </thead>\n",
       "  <tbody>\n",
       "    <tr>\n",
       "      <th>A</th>\n",
       "      <td>78</td>\n",
       "      <td>1460</td>\n",
       "    </tr>\n",
       "    <tr>\n",
       "      <th>B</th>\n",
       "      <td>314</td>\n",
       "      <td>6489</td>\n",
       "    </tr>\n",
       "  </tbody>\n",
       "</table>\n",
       "</div>"
      ],
      "text/plain": [
       "CR   convert  not_convert\n",
       "grp                      \n",
       "A         78         1460\n",
       "B        314         6489"
      ]
     },
     "execution_count": 62,
     "metadata": {},
     "output_type": "execute_result"
    }
   ],
   "source": [
    "purches_fin"
   ]
  },
  {
   "cell_type": "code",
   "execution_count": 63,
   "id": "b31cd022-3778-4d8a-83a3-0204ee4c9e8c",
   "metadata": {},
   "outputs": [
    {
     "data": {
      "text/plain": [
       "(8341, 5)"
      ]
     },
     "execution_count": 63,
     "metadata": {},
     "output_type": "execute_result"
    }
   ],
   "source": [
    "purchase.shape"
   ]
  },
  {
   "cell_type": "code",
   "execution_count": 64,
   "id": "16606487-4575-4272-a8d1-4cad686594e3",
   "metadata": {},
   "outputs": [
    {
     "data": {
      "text/plain": [
       "<AxesSubplot:xlabel='CR', ylabel='count'>"
      ]
     },
     "execution_count": 64,
     "metadata": {},
     "output_type": "execute_result"
    },
    {
     "data": {
      "image/png": "[encoded data removed]",
      "text/plain": [
       "<Figure size 400x400 with 1 Axes>"
      ]
     },
     "metadata": {},
     "output_type": "display_data"
    }
   ],
   "source": [
    "# vizualization Bernoulli Distribution\n",
    "plt.figure(figsize=(4, 4))\n",
    "\n",
    "sns.countplot(data=purchase, x='CR', hue='grp', palette='BuPu')"
   ]
  },
  {
   "cell_type": "code",
   "execution_count": 65,
   "id": "ba512163-e76a-4562-844f-9071e1327340",
   "metadata": {},
   "outputs": [
    {
     "name": "stdout",
     "output_type": "stream",
     "text": [
      "chi2 : 0.5821513741106591\n",
      "p-value : 0.44547028437158964\n",
      "Degrees of freedom : 1\n",
      "Expectade array : [[  72.28102146 1465.71897854]\n",
      " [ 319.71897854 6483.28102146]]\n"
     ]
    }
   ],
   "source": [
    "# apply chi-2 to CR metric: https://towardsdatascience.com/a-b-testing-with-chi-squared-test-to-maximize-conversions-and-ctrs-6599271a2c31\n",
    "\n",
    "chi2, p, dof, ex = stats.chi2_contingency(purches_fin, correction=False)\n",
    "\n",
    "print(f'chi2 : {chi2}', f'p-value : {p}',\n",
    "      f'Degrees of freedom : {dof}', f'Expectade array : {ex}', sep='\\n')"
   ]
  },
  {
   "cell_type": "code",
   "execution_count": 66,
   "id": "8e985091-a8dd-43c2-87fe-e26c02995feb",
   "metadata": {},
   "outputs": [
    {
     "data": {
      "text/plain": [
       "grp\n",
       "A    0.050715\n",
       "B    0.046156\n",
       "dtype: float64"
      ]
     },
     "execution_count": 66,
     "metadata": {},
     "output_type": "execute_result"
    }
   ],
   "source": [
    "# Check CR in groups\n",
    "\n",
    "CR = purches_fin.convert/(purches_fin.convert+purches_fin.not_convert)\n",
    "CR"
   ]
  },
  {
   "cell_type": "markdown",
   "id": "ff647483-75b0-41aa-81c5-1ff60996d5da",
   "metadata": {},
   "source": [
    "**Sub-conclusion** is the conversion in two groups doesn't have the statistical difference between A-control and B-test groups.<br>\n",
    "CR is the main metric to check the success of this feature because the changings don't connect with product promotion and raising average revenue.\n",
    "____"
   ]
  },
  {
   "cell_type": "markdown",
   "id": "8b8b570b-08f0-4b6b-8859-2af631f70f94",
   "metadata": {},
   "source": [
    "Check the Revenue changes such as ARPU and ARPPU.<br>\n",
    "First of all, visualization of revenue data."
   ]
  },
  {
   "cell_type": "code",
   "execution_count": 67,
   "id": "3200814b-8f8d-4c18-b4c4-96c09ae022cc",
   "metadata": {},
   "outputs": [
    {
     "data": {
      "text/plain": [
       "Text(0.5, 1.0, 'ARPU')"
      ]
     },
     "execution_count": 67,
     "metadata": {},
     "output_type": "execute_result"
    },
    {
     "data": {
      "image/png": "[encoded data removed]",
      "text/plain": [
       "<Figure size 1000x400 with 2 Axes>"
      ]
     },
     "metadata": {},
     "output_type": "display_data"
    }
   ],
   "source": [
    "# check the data outliers in ARPPU and distribution\n",
    "\n",
    "fig, axes = plt.subplots(nrows=1, ncols=2, figsize=(10, 4))\n",
    "\n",
    "sns.histplot(data=purchase.query('rev > 0'), x='rev',\n",
    "             palette=\"BuPu\", hue='grp', ax=axes[0])\n",
    "sns.histplot(data=purchase, x='rev', palette=\"BuPu\",\n",
    "             bins=10, hue='grp', ax=axes[1])\n",
    "\n",
    "axes[0].set_title('ARPPU')\n",
    "axes[1].set_title('ARPU')"
   ]
  },
  {
   "cell_type": "code",
   "execution_count": 68,
   "id": "ec520b14-0e9f-418d-9fac-0db37f93f6df",
   "metadata": {
    "tags": []
   },
   "outputs": [
    {
     "data": {
      "text/plain": [
       "<AxesSubplot:xlabel='grp', ylabel='rev'>"
      ]
     },
     "execution_count": 68,
     "metadata": {},
     "output_type": "execute_result"
    },
    {
     "data": {
      "image/png": "[encoded data removed]",
      "text/plain": [
       "<Figure size 640x480 with 1 Axes>"
      ]
     },
     "metadata": {},
     "output_type": "display_data"
    }
   ],
   "source": [
    "sns.boxplot(data=purchase[purchase.rev > 0], x='grp',\n",
    "            y='rev', hue='grp', palette=\"BuPu\")"
   ]
  },
  {
   "cell_type": "code",
   "execution_count": 69,
   "id": "4cde8629-3721-4f94-905e-5a224dab2dff",
   "metadata": {},
   "outputs": [
    {
     "data": {
      "text/html": [
       "<div>\n",
       "<style scoped>\n",
       "    .dataframe tbody tr th:only-of-type {\n",
       "        vertical-align: middle;\n",
       "    }\n",
       "\n",
       "    .dataframe tbody tr th {\n",
       "        vertical-align: top;\n",
       "    }\n",
       "\n",
       "    .dataframe thead tr th {\n",
       "        text-align: left;\n",
       "    }\n",
       "</style>\n",
       "<table border=\"1\" class=\"dataframe\">\n",
       "  <thead>\n",
       "    <tr>\n",
       "      <th></th>\n",
       "      <th>grp</th>\n",
       "      <th colspan=\"4\" halign=\"left\">rev</th>\n",
       "    </tr>\n",
       "    <tr>\n",
       "      <th></th>\n",
       "      <th></th>\n",
       "      <th>sum</th>\n",
       "      <th>count</th>\n",
       "      <th>mean</th>\n",
       "      <th>median</th>\n",
       "    </tr>\n",
       "  </thead>\n",
       "  <tbody>\n",
       "    <tr>\n",
       "      <th>0</th>\n",
       "      <td>A</td>\n",
       "      <td>72820.000</td>\n",
       "      <td>1538</td>\n",
       "      <td>47.347</td>\n",
       "      <td>0.0</td>\n",
       "    </tr>\n",
       "    <tr>\n",
       "      <th>1</th>\n",
       "      <td>B</td>\n",
       "      <td>394974.004</td>\n",
       "      <td>6803</td>\n",
       "      <td>58.059</td>\n",
       "      <td>0.0</td>\n",
       "    </tr>\n",
       "  </tbody>\n",
       "</table>\n",
       "</div>"
      ],
      "text/plain": [
       "  grp         rev                     \n",
       "              sum count    mean median\n",
       "0   A   72820.000  1538  47.347    0.0\n",
       "1   B  394974.004  6803  58.059    0.0"
      ]
     },
     "execution_count": 69,
     "metadata": {},
     "output_type": "execute_result"
    }
   ],
   "source": [
    "# ARPU statistics\n",
    "\n",
    "ARPU = (\n",
    "    purchase.groupby('grp', as_index=False).\n",
    "    agg({'rev': ['sum', 'count', 'mean', 'median']}).\n",
    "    round(3)\n",
    ")\n",
    "ARPU"
   ]
  },
  {
   "cell_type": "code",
   "execution_count": 70,
   "id": "6654f543-9060-43bf-be7f-d1a4ec57c74d",
   "metadata": {},
   "outputs": [
    {
     "data": {
      "text/html": [
       "<div>\n",
       "<style scoped>\n",
       "    .dataframe tbody tr th:only-of-type {\n",
       "        vertical-align: middle;\n",
       "    }\n",
       "\n",
       "    .dataframe tbody tr th {\n",
       "        vertical-align: top;\n",
       "    }\n",
       "\n",
       "    .dataframe thead th {\n",
       "        text-align: right;\n",
       "    }\n",
       "</style>\n",
       "<table border=\"1\" class=\"dataframe\">\n",
       "  <thead>\n",
       "    <tr style=\"text-align: right;\">\n",
       "      <th></th>\n",
       "      <th>grp</th>\n",
       "      <th>rev</th>\n",
       "    </tr>\n",
       "  </thead>\n",
       "  <tbody>\n",
       "    <tr>\n",
       "      <th>0</th>\n",
       "      <td>A</td>\n",
       "      <td>1460</td>\n",
       "    </tr>\n",
       "    <tr>\n",
       "      <th>1</th>\n",
       "      <td>B</td>\n",
       "      <td>6489</td>\n",
       "    </tr>\n",
       "  </tbody>\n",
       "</table>\n",
       "</div>"
      ],
      "text/plain": [
       "  grp   rev\n",
       "0   A  1460\n",
       "1   B  6489"
      ]
     },
     "execution_count": 70,
     "metadata": {},
     "output_type": "execute_result"
    }
   ],
   "source": [
    "# ARPU statistics of 0\n",
    "\n",
    "ARPU_zero = (\n",
    "    purchase.query('rev == 0').groupby('grp', as_index=False).\n",
    "    agg({'rev': 'count'}).\n",
    "    round(3)\n",
    ")\n",
    "ARPU_zero"
   ]
  },
  {
   "cell_type": "code",
   "execution_count": 71,
   "id": "cbc027c6-08e2-420e-ba2a-a0f1d6d4439d",
   "metadata": {},
   "outputs": [
    {
     "data": {
      "text/html": [
       "<div>\n",
       "<style scoped>\n",
       "    .dataframe tbody tr th:only-of-type {\n",
       "        vertical-align: middle;\n",
       "    }\n",
       "\n",
       "    .dataframe tbody tr th {\n",
       "        vertical-align: top;\n",
       "    }\n",
       "\n",
       "    .dataframe thead tr th {\n",
       "        text-align: left;\n",
       "    }\n",
       "</style>\n",
       "<table border=\"1\" class=\"dataframe\">\n",
       "  <thead>\n",
       "    <tr>\n",
       "      <th></th>\n",
       "      <th>grp</th>\n",
       "      <th colspan=\"3\" halign=\"left\">rev</th>\n",
       "    </tr>\n",
       "    <tr>\n",
       "      <th></th>\n",
       "      <th></th>\n",
       "      <th>count</th>\n",
       "      <th>mean</th>\n",
       "      <th>median</th>\n",
       "    </tr>\n",
       "  </thead>\n",
       "  <tbody>\n",
       "    <tr>\n",
       "      <th>0</th>\n",
       "      <td>A</td>\n",
       "      <td>78</td>\n",
       "      <td>933.590</td>\n",
       "      <td>585.0</td>\n",
       "    </tr>\n",
       "    <tr>\n",
       "      <th>1</th>\n",
       "      <td>B</td>\n",
       "      <td>314</td>\n",
       "      <td>1257.879</td>\n",
       "      <td>1140.0</td>\n",
       "    </tr>\n",
       "  </tbody>\n",
       "</table>\n",
       "</div>"
      ],
      "text/plain": [
       "  grp   rev                  \n",
       "      count      mean  median\n",
       "0   A    78   933.590   585.0\n",
       "1   B   314  1257.879  1140.0"
      ]
     },
     "execution_count": 71,
     "metadata": {},
     "output_type": "execute_result"
    }
   ],
   "source": [
    "# ARPPU statistics\n",
    "\n",
    "ARPPU = (\n",
    "    purchase.query('rev > 0').\n",
    "    groupby('grp', as_index=False).\n",
    "    agg({'rev': ['count', 'mean', 'median']}).\n",
    "    round(3)\n",
    ")\n",
    "ARPPU"
   ]
  },
  {
   "cell_type": "markdown",
   "id": "09a8cc9c-3ffd-425b-acd9-53b826b1c52d",
   "metadata": {},
   "source": [
    "Both metrics haven't a normal distribution.<br> \n",
    "ARPPU has the two picks concentration near 0 and 2000.<br> \n",
    "ARPU has a lot of 0 values.<br>\n",
    "\n",
    "Hypothesis:\n",
    "- ***ARPU H0***  - The ARPU in A and B groups is the same<br>\n",
    "- ***ARPPU H0*** - The ARPPU in A and B groups is the same<br>\n",
    "\n",
    "Using bootstrap to check does the Revenue changings is significant and u-test to compare results."
   ]
  },
  {
   "cell_type": "code",
   "execution_count": 72,
   "id": "d1311ef5-c8d0-43c1-b674-ac78db1f8200",
   "metadata": {
    "tags": []
   },
   "outputs": [],
   "source": [
    "# bootstrap function\n",
    "\n",
    "def get_bootstrap(\n",
    "    data_column_1,  # числовые значения первой выборки\n",
    "    data_column_2,  # числовые значения второй выборки\n",
    "    boot_it=100,  # количество бутстрэп-подвыборок\n",
    "    statistic=np.mean,  # интересующая нас статистика\n",
    "    bootstrap_conf_level=0.95  # уровень значимости\n",
    "):\n",
    "    boot_len = max([len(data_column_1), len(data_column_2)])\n",
    "    boot_data = []\n",
    "    for i in tqdm(range(boot_it)):  # извлекаем подвыборки\n",
    "        samples_1 = data_column_1.sample(\n",
    "            boot_len,\n",
    "            replace=True  # параметр возвращения\n",
    "        ).values\n",
    "\n",
    "        samples_2 = data_column_2.sample(\n",
    "            boot_len,\n",
    "            replace=True\n",
    "        ).values\n",
    "\n",
    "        # mean() - применяем статистику\n",
    "        boot_data.append(statistic(samples_1)-statistic(samples_2))\n",
    "\n",
    "    pd_boot_data = pd.DataFrame(boot_data)\n",
    "\n",
    "    left_quant = (1 - bootstrap_conf_level)/2\n",
    "    right_quant = 1 - (1 - bootstrap_conf_level) / 2\n",
    "    quants = pd_boot_data.quantile([left_quant, right_quant])\n",
    "\n",
    "    p_1 = stats.norm.cdf(\n",
    "        x=0,\n",
    "        loc=np.mean(boot_data),\n",
    "        scale=np.std(boot_data)\n",
    "    )\n",
    "    p_2 = stats.norm.cdf(\n",
    "        x=0,\n",
    "        loc=-np.mean(boot_data),\n",
    "        scale=np.std(boot_data)\n",
    "    )\n",
    "    p_value = min(p_1, p_2) * 2\n",
    "\n",
    "    # Визуализация\n",
    "#    _, _, bars = plt.hist(pd_boot_data[0], bins = 50)\n",
    "#    for bar in bars:\n",
    "#        if bar.get_x() <= quants.iloc[0][0] or bar.get_x() >= quants.iloc[1][0]:\n",
    "#            bar.set_facecolor('red')\n",
    "#        else:\n",
    "#            bar.set_facecolor('grey')\n",
    "#            bar.set_edgecolor('black')\n",
    "#\n",
    "#    plt.style.use('ggplot')\n",
    "#    plt.vlines(quants,ymin=0,ymax=50,linestyle='--')\n",
    "#    plt.xlabel('boot_data')\n",
    "#    plt.ylabel('frequency')\n",
    "#    plt.title(\"Histogram of boot_data\")\n",
    "#    plt.show()\n",
    "#\n",
    "    return {\"boot_data\": boot_data,\n",
    "            \"quants\": quants,\n",
    "            \"p_value\": p_value}"
   ]
  },
  {
   "cell_type": "code",
   "execution_count": 73,
   "id": "44c9a2da-e412-4b5f-954f-59c6840cfc2a",
   "metadata": {},
   "outputs": [
    {
     "data": {
      "text/html": [
       "<div>\n",
       "<style scoped>\n",
       "    .dataframe tbody tr th:only-of-type {\n",
       "        vertical-align: middle;\n",
       "    }\n",
       "\n",
       "    .dataframe tbody tr th {\n",
       "        vertical-align: top;\n",
       "    }\n",
       "\n",
       "    .dataframe thead th {\n",
       "        text-align: right;\n",
       "    }\n",
       "</style>\n",
       "<table border=\"1\" class=\"dataframe\">\n",
       "  <thead>\n",
       "    <tr style=\"text-align: right;\">\n",
       "      <th></th>\n",
       "      <th>student_id</th>\n",
       "      <th>id</th>\n",
       "      <th>grp</th>\n",
       "      <th>rev</th>\n",
       "      <th>CR</th>\n",
       "    </tr>\n",
       "  </thead>\n",
       "  <tbody>\n",
       "    <tr>\n",
       "      <th>0</th>\n",
       "      <td>581585</td>\n",
       "      <td>581585</td>\n",
       "      <td>A</td>\n",
       "      <td>0.0</td>\n",
       "      <td>not_convert</td>\n",
       "    </tr>\n",
       "    <tr>\n",
       "      <th>1</th>\n",
       "      <td>5723133</td>\n",
       "      <td>5723133</td>\n",
       "      <td>A</td>\n",
       "      <td>0.0</td>\n",
       "      <td>not_convert</td>\n",
       "    </tr>\n",
       "    <tr>\n",
       "      <th>2</th>\n",
       "      <td>3276743</td>\n",
       "      <td>3276743</td>\n",
       "      <td>B</td>\n",
       "      <td>0.0</td>\n",
       "      <td>not_convert</td>\n",
       "    </tr>\n",
       "    <tr>\n",
       "      <th>3</th>\n",
       "      <td>4238589</td>\n",
       "      <td>4238589</td>\n",
       "      <td>A</td>\n",
       "      <td>0.0</td>\n",
       "      <td>not_convert</td>\n",
       "    </tr>\n",
       "    <tr>\n",
       "      <th>4</th>\n",
       "      <td>4475369</td>\n",
       "      <td>4475369</td>\n",
       "      <td>B</td>\n",
       "      <td>0.0</td>\n",
       "      <td>not_convert</td>\n",
       "    </tr>\n",
       "  </tbody>\n",
       "</table>\n",
       "</div>"
      ],
      "text/plain": [
       "   student_id       id grp  rev           CR\n",
       "0      581585   581585   A  0.0  not_convert\n",
       "1     5723133  5723133   A  0.0  not_convert\n",
       "2     3276743  3276743   B  0.0  not_convert\n",
       "3     4238589  4238589   A  0.0  not_convert\n",
       "4     4475369  4475369   B  0.0  not_convert"
      ]
     },
     "execution_count": 73,
     "metadata": {},
     "output_type": "execute_result"
    }
   ],
   "source": [
    "purchase.head()"
   ]
  },
  {
   "cell_type": "code",
   "execution_count": 74,
   "id": "f21f64e2-ba49-4005-9482-5c7372a78de2",
   "metadata": {},
   "outputs": [
    {
     "data": {
      "application/vnd.jupyter.widget-view+json": {
       "model_id": "ba71fa8104864cb5a558fb96c48f39df",
       "version_major": 2,
       "version_minor": 0
      },
      "text/plain": [
       "  0%|          | 0/10000 [00:00<?, ?it/s]"
      ]
     },
     "metadata": {},
     "output_type": "display_data"
    },
    {
     "name": "stdout",
     "output_type": "stream",
     "text": [
      "Bootstrap : 0.04170631003623648 U-test: MWU    0.509975\n",
      "Name: p-val, dtype: float64\n"
     ]
    }
   ],
   "source": [
    "ARPU_b = purchase.query('grp == \"B\"').rev\n",
    "ARPU_a = purchase.query('grp == \"A\"').rev\n",
    "\n",
    "u_test = pg.mwu(ARPU_b, ARPU_a, alternative='two-sided')\n",
    "booted_data = get_bootstrap(ARPU_b, ARPU_a, boot_it=10000, statistic=np.mean)\n",
    "\n",
    "print(f'Bootstrap : {booted_data[\"p_value\"]}', f'U-test: {u_test[\"p-val\"]}')"
   ]
  },
  {
   "cell_type": "code",
   "execution_count": 75,
   "id": "abc84779-1349-466e-bdbc-505f9f8de5a6",
   "metadata": {},
   "outputs": [
    {
     "data": {
      "application/vnd.jupyter.widget-view+json": {
       "model_id": "b413e8eb73c04100a4cf26cb5d49b104",
       "version_major": 2,
       "version_minor": 0
      },
      "text/plain": [
       "  0%|          | 0/10000 [00:00<?, ?it/s]"
      ]
     },
     "metadata": {},
     "output_type": "display_data"
    },
    {
     "name": "stdout",
     "output_type": "stream",
     "text": [
      "Bootstrap : 1.9056091162588783e-06 U-test: MWU    0.000251\n",
      "Name: p-val, dtype: float64\n"
     ]
    }
   ],
   "source": [
    "ARPPU_B = purchase.query('grp == \"B\" and rev>0').rev\n",
    "ARPPU_A = purchase.query('grp == \"A\" and rev>0').rev\n",
    "\n",
    "u_test = pg.mwu(ARPPU_B, ARPPU_A, alternative='two-sided')\n",
    "booted_data = get_bootstrap(ARPPU_B, ARPPU_A, boot_it=10000, statistic=np.mean)\n",
    "\n",
    "print(f'Bootstrap : {booted_data[\"p_value\"]}', f'U-test: {u_test[\"p-val\"]}')"
   ]
  },
  {
   "cell_type": "markdown",
   "id": "f317c705-4745-4964-bdb1-358dc454f5c2",
   "metadata": {},
   "source": [
    "The ARPU results are not obvious. Comparing results of bootstrap and u-test are different.\n",
    "The two factors impact to results:\n",
    "- huge numbers of 0\n",
    "- anomalies  around 2000\n",
    "\n",
    "The same problem with anomalies in tests of ARPPU."
   ]
  },
  {
   "cell_type": "markdown",
   "id": "425eb025-5672-4f5c-9448-a7133b37b90a",
   "metadata": {},
   "source": [
    "___\n",
    "\n",
    "Testing the ARPU and ARPPU with modification.<br>\n",
    "From my point of view, the anomaly is 1900.0001 revenue.<br>\n",
    "I exclude users who have this check amount."
   ]
  },
  {
   "cell_type": "code",
   "execution_count": 76,
   "id": "7756b08f-1665-48c9-86c8-73afde07a9c0",
   "metadata": {},
   "outputs": [
    {
     "data": {
      "text/plain": [
       "rev\n",
       "0.0000       7949\n",
       "1900.0000      93\n",
       "290.0000       70\n",
       "1900.0001      35\n",
       "199.0000       32\n",
       "840.0000       24\n",
       "990.0000       22\n",
       "690.0000       17\n",
       "590.0000       11\n",
       "580.0000       11\n",
       "Name: id, dtype: int64"
      ]
     },
     "execution_count": 76,
     "metadata": {},
     "output_type": "execute_result"
    }
   ],
   "source": [
    "purchase.groupby('rev')['id'].count().sort_values(ascending=False).head(10)"
   ]
  },
  {
   "cell_type": "code",
   "execution_count": 77,
   "id": "65f959ef-b803-42ff-928a-18c2b96ab7a2",
   "metadata": {},
   "outputs": [
    {
     "data": {
      "application/vnd.jupyter.widget-view+json": {
       "model_id": "4a6daeac478a46528caf4baded5e8259",
       "version_major": 2,
       "version_minor": 0
      },
      "text/plain": [
       "  0%|          | 0/10000 [00:00<?, ?it/s]"
      ]
     },
     "metadata": {},
     "output_type": "display_data"
    },
    {
     "name": "stdout",
     "output_type": "stream",
     "text": [
      "Bootstrap : 0.8082043924113922 U-test: MWU    0.11406\n",
      "Name: p-val, dtype: float64\n"
     ]
    }
   ],
   "source": [
    "# count the test to ARPU\n",
    "\n",
    "ARPU_b = purchase.query('grp == \"B\" and rev != 1900.0001').rev\n",
    "ARPU_a = purchase.query('grp == \"A\" and rev != 1900.0001').rev\n",
    "\n",
    "u_test = pg.mwu(ARPU_b, ARPU_a, alternative='two-sided')\n",
    "booted_data = get_bootstrap(ARPU_b, ARPU_a, boot_it=10000, statistic=np.mean)\n",
    "\n",
    "print(f'Bootstrap : {booted_data[\"p_value\"]}', f'U-test: {u_test[\"p-val\"]}')"
   ]
  },
  {
   "cell_type": "code",
   "execution_count": 78,
   "id": "068c1aa3-934d-4700-a043-0cbb3513474f",
   "metadata": {},
   "outputs": [
    {
     "data": {
      "application/vnd.jupyter.widget-view+json": {
       "model_id": "747e250673c64697b29853a98beb7a57",
       "version_major": 2,
       "version_minor": 0
      },
      "text/plain": [
       "  0%|          | 0/10000 [00:00<?, ?it/s]"
      ]
     },
     "metadata": {},
     "output_type": "display_data"
    },
    {
     "name": "stdout",
     "output_type": "stream",
     "text": [
      "Bootstrap : 0.8100125449362833 U-test: MWU    0.11406\n",
      "Name: p-val, dtype: float64\n"
     ]
    }
   ],
   "source": [
    "# count the test to ARPPU\n",
    "\n",
    "ARPPU_B = purchase.query('grp == \"B\" and rev != 1900.0001').rev\n",
    "ARPPU_A = purchase.query('grp == \"A\" and rev != 1900.0001').rev\n",
    "\n",
    "u_test = pg.mwu(ARPPU_B, ARPPU_A, alternative='two-sided')\n",
    "booted_data = get_bootstrap(ARPPU_B, ARPPU_A, boot_it=10000, statistic=np.mean)\n",
    "\n",
    "print(f'Bootstrap : {booted_data[\"p_value\"]}', f'U-test: {u_test[\"p-val\"]}')"
   ]
  },
  {
   "cell_type": "markdown",
   "id": "e9619f06-e0f9-41e8-b88a-c2c2c19de8b7",
   "metadata": {},
   "source": [
    "The results look similar to both metrics and I don't have the reasons to reject H0."
   ]
  },
  {
   "cell_type": "markdown",
   "id": "6effa09a-8088-447e-af27-12a5c86fbebf",
   "metadata": {},
   "source": [
    "### REVIEW 1 TASK\n",
    "\n",
    "1. The groups have an imbalance. The not robust split system can cause this kind of issue.\n",
    "2. The sales or holidays could cause anomalies in ARPU and ARPPU.\n",
    "3. If suppose, that the A/B test was pure, the results show that the updates should initiate. Perhaps the changes connect with the security of payment, which is why the new feature increased the number of purchases of the most popular good.\n",
    "*But I don't have enough information about this test, its feature specialties, and how this experiment was designed.*"
   ]
  },
  {
   "cell_type": "markdown",
   "id": "a88d3cbf-6745-4579-bfda-9a163bd7598e",
   "metadata": {},
   "source": [
    "\n",
    "\n",
    "\n",
    "\n"
   ]
  },
  {
   "cell_type": "markdown",
   "id": "ec9ef4b0-225c-471a-bb1f-6cc0fd3d55ff",
   "metadata": {},
   "source": [
    "### TASK 2<a name = task_2></a>"
   ]
  },
  {
   "cell_type": "code",
   "execution_count": 2,
   "id": "ee20300b-e03e-46f4-b797-1d37c2584fd4",
   "metadata": {},
   "outputs": [],
   "source": [
    "import pandahouse as ph"
   ]
  },
  {
   "cell_type": "code",
   "execution_count": 3,
   "id": "b8c7712a-73de-4789-965b-228583efa6d6",
   "metadata": {},
   "outputs": [],
   "source": [
    "connection_default = {'host': 'http://clickhouse.beslan.pro:8080',\n",
    "                      'database': 'default',\n",
    "                      'user': 'student',\n",
    "                      'password': 'dpo_python_2020'\n",
    "                      }"
   ]
  },
  {
   "cell_type": "markdown",
   "id": "ad1576be-1619-46b8-be9a-3c7967eb5cce",
   "metadata": {},
   "source": [
    "### Task 2.1"
   ]
  },
  {
   "cell_type": "code",
   "execution_count": 98,
   "id": "4f0046dc-0786-4f42-92f1-0b142294429a",
   "metadata": {},
   "outputs": [],
   "source": [
    "q_1 = '''\n",
    "\n",
    "SELECT COUNT(DISTINCT st_id) As total_st                     /*подзапрос, считаю для уникальных студентов кол-во действий в сек. и фильтрую тех у кого уникальных действий в сек. больше чем 1*/\n",
    "FROM (SELECT\n",
    "            st_id,                                           \n",
    "            COUNT(DISTINCT st_id) AS total_st,               /*считаю кол-во уникальных студентов, которые единовременно делают только 1 действие*/\n",
    "            SUM(correct_mark) AS total_corr_task             /*суммирую кол-во правильных ответов по каждому студенту*/\n",
    "    FROM    (SELECT                                          /*подзапрос, чтобы отфильтровать студентов, которые в одну и туже секунду сделали более 1 действия*/\n",
    "                DISTINCT st_id AS st_id,                     /*st_id вызывается для группировки*/\n",
    "                timest,                                      /*timest вызывается для группировки*/\n",
    "                groupArray(subject) AS sub_list,             /*собираю в список предметы, по которым студент в одну и туже сек. дал ответ, это строка часть предворительно исслделования, не влияет на расчет*/\n",
    "                COUNT(subject) AS num_subj,                  /*считаю на какое кол-во предметов уникальный студент давал ответ в одну и туже секунду*/\n",
    "                COUNT(correct) AS num_task,                  /*считаю на сколько заданий уникальный студент в одну и туже сек. давал ответ*/\n",
    "                COUNT(DISTINCT correct) AS num_correct,      /*считаю кол-во уникальных ответов, которые дал уникальный студент в одну и туже секунду*/\n",
    "                SUM(correct) AS correct_mark                 /*считаем сколько всего правильных ответов на задание было дано учеником в определенное время*/\n",
    "            FROM default.peas                    \n",
    "            GROUP BY st_id, timest                           /*группирую по студентам и времени, что бы  далее исключить тех кто в одно и тоже время делает более 1 действия*/\n",
    "            HAVING     num_task < 2                          /*оставляю только тех, которые делали в одну и туже секунду не более 1 действия*/\n",
    "                   AND num_correct < 2 \n",
    "                   AND num_subj < 2                          \n",
    "            ORDER BY num_task DESC, num_correct DESC)\n",
    "    GROUP BY st_id\n",
    "    HAVING total_corr_task >= 20)                            /*фильтрую студентов, которые решили 20 и больше задач*/\n",
    "'''"
   ]
  },
  {
   "cell_type": "code",
   "execution_count": 99,
   "id": "b19cb6f8-5bd1-4fb9-af4b-37eee43bbfa6",
   "metadata": {},
   "outputs": [
    {
     "data": {
      "text/html": [
       "<div>\n",
       "<style scoped>\n",
       "    .dataframe tbody tr th:only-of-type {\n",
       "        vertical-align: middle;\n",
       "    }\n",
       "\n",
       "    .dataframe tbody tr th {\n",
       "        vertical-align: top;\n",
       "    }\n",
       "\n",
       "    .dataframe thead th {\n",
       "        text-align: right;\n",
       "    }\n",
       "</style>\n",
       "<table border=\"1\" class=\"dataframe\">\n",
       "  <thead>\n",
       "    <tr style=\"text-align: right;\">\n",
       "      <th></th>\n",
       "      <th>total_st</th>\n",
       "    </tr>\n",
       "  </thead>\n",
       "  <tbody>\n",
       "    <tr>\n",
       "      <th>0</th>\n",
       "      <td>136</td>\n",
       "    </tr>\n",
       "  </tbody>\n",
       "</table>\n",
       "</div>"
      ],
      "text/plain": [
       "   total_st\n",
       "0       136"
      ]
     },
     "execution_count": 99,
     "metadata": {},
     "output_type": "execute_result"
    }
   ],
   "source": [
    "q_1_answer = ph.read_clickhouse(query=q_1, connection=connection_default)\n",
    "q_1_answer"
   ]
  },
  {
   "cell_type": "markdown",
   "id": "f672fed2-cf78-40ca-bd05-8d1aa2037889",
   "metadata": {},
   "source": [
    "### Task 2.2"
   ]
  },
  {
   "cell_type": "code",
   "execution_count": 16,
   "id": "e2d10c1f-10f9-45ad-a984-46dffdd8f6bf",
   "metadata": {},
   "outputs": [],
   "source": [
    "q_2 = '''\n",
    "\n",
    "SELECT        \n",
    "            s.test_grp,\n",
    "            \n",
    "            ROUND(grp_sum_money/COUNT(DISTINCT s.st_id),2) AS ARPU,\n",
    "            \n",
    "            ROUND(sumIf(f.money, p.tot_corr_in_subj>10 AND p.subject = f.subject)/\n",
    "                  uniqIf(s.st_id, p.tot_corr_in_subj>10), 2) AS ARPAU_2, -- other variant\n",
    "            \n",
    "            ROUND(uniqIf(f.st_id, f.money > 0)/COUNT(DISTINCT s.st_id),2) AS CR,\n",
    "                  \n",
    "            ROUND(uniqIf(s.st_id, f.money > 0 AND p.tot_corr_in_subj > 10)/\n",
    "                              uniqIf(s.st_id, p.tot_corr_in_subj > 10 ), 2) AS CR_active,\n",
    "                  \n",
    "            ROUND(uniqIf(s.st_id, p.tot_corr_in_subj >= 2 AND f.subject = 'Math' AND f.money > 0 AND p.subject = 'Math')/\n",
    "                uniqIf(s.st_id, p.tot_corr_in_subj >= 2 AND p.subject = 'Math'),2) AS CR_math\n",
    "            \n",
    "FROM default.studs AS s\n",
    "LEFT JOIN (SELECT\n",
    "            l.st_id AS st_id,\n",
    "            l.date_task AS date_task,\n",
    "            l.subject AS subject,\n",
    "            tot_task_day_subj,\n",
    "            cor_task_day_subj,\n",
    "            total_correct,\n",
    "            tot_corr_in_subj\n",
    "            FROM (SELECT                                               /*подзапрос для расчета кол-ва решенных задач*/\n",
    "                    st_id,                                             /*группировка по студентам*/\n",
    "                    toDate(timest) AS date_task,                       /*группировка по дате*/\n",
    "                    subject,                                           /*группировка по предмету*/\n",
    "                    COUNT(correct) AS tot_task_day_subj,               /*кол-во решений, отправленных уникальным студентом в день по отдельному предмету*/\n",
    "                    SUM(correct) AS cor_task_day_subj                  /*кол-во верных решений у студента в день по отдельному предмету*/\n",
    "                FROM default.peas\n",
    "                GROUP BY toDate(timest), st_id, subject) AS l\n",
    "                LEFT JOIN                                              /*добавление информации о том, сколько задач за весь период решил уникальный студент*/\n",
    "                        (\n",
    "                        SELECT st_id, SUM(correct) AS total_correct    /*подзапрос для нахождения кол-ва правильных решений у ученика за все время теста*/\n",
    "                        FROM default.peas\n",
    "                        GROUP BY st_id) AS r\n",
    "                ON l.st_id = r.st_id\n",
    "                LEFT JOIN                                             /*добавление информации о том, сколько правильных ответов дал студент за все время по предмету*/\n",
    "                    (\n",
    "                    SELECT st_id, subject, SUM(correct) AS tot_corr_in_subj /*подзапрос, чтобы найти кол-во правильных ответов, которые дал студент за время эксперемента*/\n",
    "                    FROM default.peas\n",
    "                    GROUP BY st_id, subject) AS rr\n",
    "                ON l.st_id = rr.st_id AND l.subject = rr.subject) AS p  \n",
    "ON s.st_id = p.st_id\n",
    "FULL JOIN default.final_project_check AS f                            /*добавляю информацию о всех покупках, чтобы учесть тех учеников, которые не решали задачи перед покупкой курса*/\n",
    "            ON s.st_id = f.st_id\n",
    "LEFT JOIN (SELECT                                                    /*добавляю доход от покупки курсов в каждой группе, для каждого студента*/\n",
    "                s.test_grp,\n",
    "                SUM(f.money) AS grp_sum_money\n",
    "            FROM default.final_project_check AS f \n",
    "            LEFT JOIN default.studs AS s\n",
    "                        ON s.st_id = f.st_id\n",
    "            GROUP BY s.test_grp) AS sum_grp\n",
    "ON s.test_grp = sum_grp.test_grp\n",
    "WHERE       ((p.tot_task_day_subj <= 30)                              /*оставляю только тех, кто не оплачивал курс до начала эксперемента*/\n",
    "            OR (p.tot_task_day_subj > 30 AND f.money > 0))\n",
    "GROUP BY s.test_grp, grp_sum_money\n",
    "'''"
   ]
  },
  {
   "cell_type": "code",
   "execution_count": 17,
   "id": "2132cc59-b181-48c1-ad2e-2f3b6e1fd7d0",
   "metadata": {},
   "outputs": [
    {
     "data": {
      "text/html": [
       "<div>\n",
       "<style scoped>\n",
       "    .dataframe tbody tr th:only-of-type {\n",
       "        vertical-align: middle;\n",
       "    }\n",
       "\n",
       "    .dataframe tbody tr th {\n",
       "        vertical-align: top;\n",
       "    }\n",
       "\n",
       "    .dataframe thead th {\n",
       "        text-align: right;\n",
       "    }\n",
       "</style>\n",
       "<table border=\"1\" class=\"dataframe\">\n",
       "  <thead>\n",
       "    <tr style=\"text-align: right;\">\n",
       "      <th></th>\n",
       "      <th>s.test_grp</th>\n",
       "      <th>ARPU</th>\n",
       "      <th>ARPAU_2</th>\n",
       "      <th>CR</th>\n",
       "      <th>CR_active</th>\n",
       "      <th>CR_math</th>\n",
       "    </tr>\n",
       "  </thead>\n",
       "  <tbody>\n",
       "    <tr>\n",
       "      <th>0</th>\n",
       "      <td>control</td>\n",
       "      <td>4586.09</td>\n",
       "      <td>8070.18</td>\n",
       "      <td>0.05</td>\n",
       "      <td>0.11</td>\n",
       "      <td>0.06</td>\n",
       "    </tr>\n",
       "    <tr>\n",
       "      <th>1</th>\n",
       "      <td>pilot</td>\n",
       "      <td>11508.47</td>\n",
       "      <td>16263.74</td>\n",
       "      <td>0.11</td>\n",
       "      <td>0.25</td>\n",
       "      <td>0.10</td>\n",
       "    </tr>\n",
       "  </tbody>\n",
       "</table>\n",
       "</div>"
      ],
      "text/plain": [
       "  s.test_grp      ARPU   ARPAU_2    CR  CR_active  CR_math\n",
       "0    control   4586.09   8070.18  0.05       0.11     0.06\n",
       "1      pilot  11508.47  16263.74  0.11       0.25     0.10"
      ]
     },
     "execution_count": 17,
     "metadata": {},
     "output_type": "execute_result"
    }
   ],
   "source": [
    "q_2_answer = ph.read_clickhouse(query=q_2, connection=connection_default)\n",
    "q_2_answer"
   ]
  },
  {
   "cell_type": "markdown",
   "id": "c2e52822-8473-4314-86d2-33a81590ed83",
   "metadata": {},
   "source": [
    "### TASK 3<a name = task_3></a>"
   ]
  },
  {
   "cell_type": "markdown",
   "id": "2aa10aa1-1c73-4660-bbe5-2d541eacb4c6",
   "metadata": {},
   "source": [
    "#### Design function to recount metrics\n",
    "\n",
    "`update(current_df, current_active_studs, current_checks)` - функция<br>\n",
    "- current_df - current data\n",
    "- current_active_studs -data about active users\n",
    "- current_checks - info about purchases in experimental days \n",
    "\n",
    "need to add the three data tables into function, <br>\n",
    "the function counts next options:\n",
    "- table - tables with metrics per group\n",
    "- groups_full - merged current and additional table\n",
    "- Total_students - total students\n",
    "- Total_revenue - total revenue\n",
    "- purchase - summary table\n",
    "- CR - CR per group\n",
    "- ARPU - ARPU per group\n",
    "- ARPPU - ARPPU per group\n",
    "\n",
    "Should call exect option to show it:<br>\n",
    "`update(current_df, current_active_studs, current_checks)['опция']`\n"
   ]
  },
  {
   "cell_type": "code",
   "execution_count": 1,
   "id": "bb1af0d7-70c1-4bf8-bed7-86ead07fb132",
   "metadata": {},
   "outputs": [],
   "source": [
    "def update(current_df, current_active_studs, current_checks):\n",
    "    ''' The function returns recounting metrics after adding new data.:\n",
    "\n",
    "        need to add the three data tables into function:\n",
    "        - current_df - current data\n",
    "        - current_active_studs -data about active users\n",
    "        - current_checks - info about purchases in experimental days \n",
    "\n",
    "        the function counts next options:\n",
    "        - table - tables with metrics per group\n",
    "        - groups_full - merged current and additional table\n",
    "        - Total_students - total students\n",
    "        - Total_revenue - total revenue\n",
    "        - purchase - summary table\n",
    "        - CR - CR per group\n",
    "        - ARPU - ARPU per group\n",
    "        - ARPPU - ARPPU per group\n",
    "\n",
    "        Should call exect option to show it:<br>\n",
    "        `update(current_df, current_active_studs, current_checks)['опция']`  \n",
    "    '''\n",
    "    import pandas as pd\n",
    "    import numpy as np\n",
    "\n",
    "    import requests\n",
    "    from urllib.parse import urlencode\n",
    "\n",
    "    public_key = 'https://disk.yandex.ru/d/5Kxrz02m3IBUwQ'  # links to the files\n",
    "    # Making links to download\n",
    "    base_url = 'https://cloud-api.yandex.net/v1/disk/public/resources/download?'\n",
    "    # getting downloading links\n",
    "    final_url = base_url + urlencode(dict(public_key=public_key))\n",
    "    response = requests.get(final_url)\n",
    "    add_df = response.json()['href']\n",
    "\n",
    "    # read and add additional data to main data\n",
    "    groups_add = pd.read_csv(add_df)\n",
    "    groups_add.rename(columns={0: 'id', 1: 'grp'}, inplace=True)\n",
    "    groups_full = pd.concat([current_df, groups_add])\n",
    "\n",
    "    # create df groups_full + checks\n",
    "    # use left join active_studs to expel mistakes with the users who didn't be active on the test days\n",
    "\n",
    "    purchase = current_active_studs.merge(\n",
    "        groups_full, how='left', left_on='student_id', right_on='id')\n",
    "\n",
    "    # add the checks info to purchase df\n",
    "    # use left join because we need to save info about users who didn't get a purchase on test days but did active\n",
    "\n",
    "    purchase = purchase.merge(current_checks, how='left', on='student_id')\n",
    "\n",
    "    # create the column with acting info buying or not_buying\n",
    "\n",
    "    purchase['convertation'] = purchase['rev'].fillna('not_convert')\n",
    "    purchase.loc[purchase['rev'] > 0, 'convertation'] = 'convert'\n",
    "\n",
    "    # fill Nan to 0 on 'rev' column\n",
    "\n",
    "    purchase['rev'] = purchase['rev'].fillna(0)\n",
    "\n",
    "    # Metrics\n",
    "    Total_students = purchase.student_id.nunique()\n",
    "    Total_students_A = purchase.query('grp == \"A\"').student_id.nunique()\n",
    "    Total_students_B = purchase.query('grp == \"B\"').student_id.nunique()\n",
    "\n",
    "    Total_revenue = round(sum(purchase.rev), 2)\n",
    "    Total_revenue_A = round(sum(purchase.query('grp == \"A\"').rev), 2)\n",
    "    Total_revenue_B = round(sum(purchase.query('grp == \"B\"').rev), 2)\n",
    "\n",
    "    CR_to_purchase = round(purchase.query('convertation == \"convert\"').student_id.nunique()\n",
    "                           / Total_students, 2)\n",
    "    CR_to_purchase_A = round(purchase.query('convertation == \"convert\" and grp == \"A\"').student_id.nunique()\n",
    "                             / Total_students_A, 2)\n",
    "    CR_to_purchase_B = round(purchase.query('convertation == \"convert\" and grp == \"B\"').student_id.nunique()\n",
    "                             / Total_students_B, 2)\n",
    "\n",
    "    ARPU = round(Total_revenue / Total_students, 2)\n",
    "    ARPU_A = round(Total_revenue_A / Total_students_A, 2)\n",
    "    ARPU_B = round(Total_revenue_B / Total_students_B, 2)\n",
    "\n",
    "    ARPPU = round(\n",
    "        Total_revenue / purchase.query('convertation == \"convert\"').student_id.nunique(), 2)\n",
    "    ARPPU_A = round(Total_revenue_A / purchase.query(\n",
    "        'convertation == \"convert\" and grp == \"A\"').student_id.nunique(), 2)\n",
    "    ARPPU_B = round(Total_revenue_B / purchase.query(\n",
    "        'convertation == \"convert\" and grp == \"B\"').student_id.nunique(), 2)\n",
    "\n",
    "    table = pd.DataFrame({'General': [Total_students, Total_revenue, CR_to_purchase, ARPU, ARPPU],\n",
    "                          'A_contr_grp': [Total_students_A, Total_revenue_A, CR_to_purchase_A, ARPU_A, ARPPU_A],\n",
    "                          'B_contr_grp': [Total_students_B, Total_revenue_B, CR_to_purchase_B, ARPU_B, ARPPU_B]},\n",
    "                         index=['num_students', 'revenue', 'CR', 'ARPU', 'ARPPU'])\n",
    "    return {\n",
    "        #        'summery' : print(f'Number of total unique students : {Total_students}',\n",
    "        #                          f'Number of total unique students in control A group : {Total_students_A}',\n",
    "        #                          f'Number of total unique students in test B group : {Total_students_B}',\n",
    "        #                          '*'*20,\n",
    "        #                          f'Total revenue : {Total_revenue}',\n",
    "        #                          f'Total revenue in control A group: {Total_revenue_A}',\n",
    "        #                          f'Total revenue in test B group: {Total_revenue_B}',\n",
    "        #                          '*'*20,\n",
    "        #                          f'CR into purchase : {CR_to_purchase}',\n",
    "        #                          f'CR into purchase in control A group: {CR_to_purchase_A}',\n",
    "        #                          f'CR into purchase in test B group: {CR_to_purchase_B}',\n",
    "        #                          '*'*20,\n",
    "        #                          f'ARPU : {ARPU}',\n",
    "        #                          f'ARPU in control A group: {ARPU_A}',\n",
    "        #                          f'ARPU in test B group: {ARPU_B}',\n",
    "        #                          '*'*20,\n",
    "        #                          f'ARPPU: {ARPPU}',\n",
    "        #                          f'ARPPU in control A group: {ARPPU_A}',\n",
    "        #                         f'ARPPU in test B group: {ARPPU_B}',\n",
    "        #                         '*'*20, sep = '\\n'),\n",
    "        'table': table,\n",
    "        'groups_full': groups_full,\n",
    "        'Total_students': Total_students,\n",
    "        'Total_revenue': Total_revenue,\n",
    "        'purchase': purchase,\n",
    "        'CR': f'CR = {CR_to_purchase}, CR_A = {CR_to_purchase_A}, CR_B = {CR_to_purchase_B}',\n",
    "        'ARPU': f'ARPU = {ARPU}, ARPU_A = {ARPU_A}, ARPU_B = {ARPU_B}',\n",
    "        'ARPPU': f'ARPPU = {ARPPU}, ARPPU_A = {ARPPU_A}, ARPPU_B = {ARPPU_B}'\n",
    "    }"
   ]
  },
  {
   "cell_type": "code",
   "execution_count": 2,
   "id": "af865a22-cf2e-40cf-8d30-fb5500d06de0",
   "metadata": {},
   "outputs": [
    {
     "name": "stdout",
     "output_type": "stream",
     "text": [
      " The function returns recounting metrics after adding new data.:\n",
      "\n",
      "        need to add the three data tables into function:\n",
      "        - current_df - current data\n",
      "        - current_active_studs -data about active users\n",
      "        - current_checks - info about purchases in experimental days \n",
      "\n",
      "        the function counts next options:\n",
      "        - table - tables with metrics per group\n",
      "        - groups_full - merged current and additional table\n",
      "        - Total_students - total students\n",
      "        - Total_revenue - total revenue\n",
      "        - purchase - summary table\n",
      "        - CR - CR per group\n",
      "        - ARPU - ARPU per group\n",
      "        - ARPPU - ARPPU per group\n",
      "\n",
      "        Should call exect option to show it:<br>\n",
      "        `update(current_df, current_active_studs, current_checks)['опция']`  \n",
      "    \n"
     ]
    }
   ],
   "source": [
    "print(update.__doc__)"
   ]
  },
  {
   "cell_type": "code",
   "execution_count": 89,
   "id": "357bb079-8888-4152-9d96-8c833cd25602",
   "metadata": {},
   "outputs": [
    {
     "data": {
      "text/html": [
       "<div>\n",
       "<style scoped>\n",
       "    .dataframe tbody tr th:only-of-type {\n",
       "        vertical-align: middle;\n",
       "    }\n",
       "\n",
       "    .dataframe tbody tr th {\n",
       "        vertical-align: top;\n",
       "    }\n",
       "\n",
       "    .dataframe thead th {\n",
       "        text-align: right;\n",
       "    }\n",
       "</style>\n",
       "<table border=\"1\" class=\"dataframe\">\n",
       "  <thead>\n",
       "    <tr style=\"text-align: right;\">\n",
       "      <th></th>\n",
       "      <th>General</th>\n",
       "      <th>A_contr_grp</th>\n",
       "      <th>B_contr_grp</th>\n",
       "    </tr>\n",
       "  </thead>\n",
       "  <tbody>\n",
       "    <tr>\n",
       "      <th>num_students</th>\n",
       "      <td>8341.00</td>\n",
       "      <td>1538.00</td>\n",
       "      <td>6803.00</td>\n",
       "    </tr>\n",
       "    <tr>\n",
       "      <th>revenue</th>\n",
       "      <td>467794.00</td>\n",
       "      <td>72820.00</td>\n",
       "      <td>394974.00</td>\n",
       "    </tr>\n",
       "    <tr>\n",
       "      <th>CR</th>\n",
       "      <td>0.05</td>\n",
       "      <td>0.05</td>\n",
       "      <td>0.05</td>\n",
       "    </tr>\n",
       "    <tr>\n",
       "      <th>ARPU</th>\n",
       "      <td>56.08</td>\n",
       "      <td>47.35</td>\n",
       "      <td>58.06</td>\n",
       "    </tr>\n",
       "    <tr>\n",
       "      <th>ARPPU</th>\n",
       "      <td>1193.35</td>\n",
       "      <td>933.59</td>\n",
       "      <td>1257.88</td>\n",
       "    </tr>\n",
       "  </tbody>\n",
       "</table>\n",
       "</div>"
      ],
      "text/plain": [
       "                General  A_contr_grp  B_contr_grp\n",
       "num_students    8341.00      1538.00      6803.00\n",
       "revenue       467794.00     72820.00    394974.00\n",
       "CR                 0.05         0.05         0.05\n",
       "ARPU              56.08        47.35        58.06\n",
       "ARPPU           1193.35       933.59      1257.88"
      ]
     },
     "execution_count": 89,
     "metadata": {},
     "output_type": "execute_result"
    }
   ],
   "source": [
    "update(groups, active_studs, checks)['table']"
   ]
  },
  {
   "cell_type": "markdown",
   "id": "e973fb9b-75bc-41e7-9f96-02a15a25c871",
   "metadata": {},
   "source": [
    "`vizyaliz()` - функция, которую нужно вызвать чтобы визавлизировать результаты"
   ]
  },
  {
   "cell_type": "code",
   "execution_count": 5,
   "id": "6bba148b-8a6f-41c5-b43c-171d821d3b1b",
   "metadata": {},
   "outputs": [],
   "source": [
    "def vizyaliz():\n",
    "    '''\n",
    "    Visualization after using update()\n",
    "\n",
    "    Function works without parametres'''\n",
    "\n",
    "    import seaborn as sns\n",
    "    import matplotlib.pyplot as plt\n",
    "    import pandas as pd\n",
    "\n",
    "    # saving data after recalculation\n",
    "    table = update(groups, active_studs, checks)['table']\n",
    "    table_df = table.copy()\n",
    "    table_df = table_df.T.reset_index()\n",
    "    # collecting columns names\n",
    "    value = table_df.columns\n",
    "\n",
    "    # creating grid for charts\n",
    "    fig, axes = plt.subplots(nrows=3, ncols=2, figsize=(10, 10))\n",
    "\n",
    "    # setting space between charts\n",
    "    plt.subplots_adjust(left=0.1,\n",
    "                        bottom=0.1,\n",
    "                        right=1,\n",
    "                        top=0.9,\n",
    "                        wspace=0.4,\n",
    "                        hspace=0.4)\n",
    "\n",
    "    # loop to create bar chart per metrics\n",
    "    for i, j in zip(axes.flatten(), value[1:]):\n",
    "\n",
    "        sns.barplot(data=table_df, x='index', y=j, palette=\"BuPu\", ax=i)\n",
    "\n",
    "        # named bar-charts\n",
    "        i.set_title(j, fontsize=10)\n",
    "        i.bar_label(i.containers[0], fontsize=10)  # named each bar\n",
    "\n",
    "        plt.rcParams['axes.spines.top'] = False  # remove  frame's top line\n",
    "        plt.rcParams['axes.spines.right'] = False  # remove  frame's right line\n",
    "\n",
    "    fig.delaxes(axes[2][1])  # delete 6th chart\n",
    "    plt.show()\n",
    "\n",
    "    # visualization histogram with purchases\n",
    "\n",
    "    # calling data\n",
    "    purchase = update(groups, active_studs, checks)['purchase']\n",
    "    purchase_df = purchase.copy()\n",
    "\n",
    "    plt.rcParams['axes.spines.top'] = False  # remove  frame's top line\n",
    "    plt.rcParams['axes.spines.right'] = False  # remove  frame's right line\n",
    "\n",
    "    # creating grid for charts\n",
    "    fig, axes = plt.subplots(nrows=1, ncols=2, figsize=(10, 5))\n",
    "\n",
    "    plt.subplots_adjust(left=0.1,              # setting space between charts\n",
    "                        bottom=0.1,\n",
    "                        right=1,\n",
    "                        top=0.9,\n",
    "                        wspace=0.4,\n",
    "                        hspace=0.4)\n",
    "\n",
    "    # clients revenue histogram\n",
    "    sns.histplot(data=purchase_df.query('convertation == \"convert\"'),\n",
    "                 x='rev', palette=\"BuPu\", hue='grp', ax=axes[0], bins=50)\n",
    "\n",
    "    # users revenue histogram\n",
    "    sns.histplot(data=purchase_df, x='rev',\n",
    "                 palette=\"BuPu\", hue='grp', ax=axes[1], bins=50)\n",
    "\n",
    "    # named clients revenue histogram\n",
    "    axes[0].set_title('Revenue per clients', fontsize=10)\n",
    "    # amed users revenue histogram\n",
    "    axes[1].set_title('Revenue per users', fontsize=10)\n",
    "\n",
    "    plt.show()\n",
    "\n",
    "    pass"
   ]
  },
  {
   "cell_type": "code",
   "execution_count": 6,
   "id": "1b3e116b-f5de-47ec-9c65-ea55699734e9",
   "metadata": {},
   "outputs": [
    {
     "name": "stdout",
     "output_type": "stream",
     "text": [
      "\n",
      "    Visualization after using update()\n",
      "\n",
      "    Function works without parametres\n"
     ]
    }
   ],
   "source": [
    "print(vizyaliz.__doc__)"
   ]
  },
  {
   "cell_type": "code",
   "execution_count": 93,
   "id": "62349d7a-271d-4e0e-bf6b-576dda8d0422",
   "metadata": {},
   "outputs": [
    {
     "data": {
      "image/png": "[encoded data removed]",
      "text/plain": [
       "<Figure size 1000x1000 with 5 Axes>"
      ]
     },
     "metadata": {},
     "output_type": "display_data"
    },
    {
     "data": {
      "image/png": "[encoded data removed]",
      "text/plain": [
       "<Figure size 1000x500 with 2 Axes>"
      ]
     },
     "metadata": {},
     "output_type": "display_data"
    }
   ],
   "source": [
    "vizyaliz()"
   ]
  },
  {
   "cell_type": "code",
   "execution_count": null,
   "id": "0041a29c-c0bf-4646-b012-6fe725546a8d",
   "metadata": {},
   "outputs": [],
   "source": []
  }
 ],
 "metadata": {
  "kernelspec": {
   "display_name": "Python 3 (ipykernel)",
   "language": "python",
   "name": "python3"
  },
  "language_info": {
   "codemirror_mode": {
    "name": "ipython",
    "version": 3
   },
   "file_extension": ".py",
   "mimetype": "text/x-python",
   "name": "python",
   "nbconvert_exporter": "python",
   "pygments_lexer": "ipython3",
   "version": "3.9.13"
  }
 },
 "nbformat": 4,
 "nbformat_minor": 5
}
